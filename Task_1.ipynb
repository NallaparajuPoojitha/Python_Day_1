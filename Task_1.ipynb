{
 "cells": [
  {
   "cell_type": "markdown",
   "id": "0fc8176e",
   "metadata": {},
   "source": [
    "### write a python program which accepts the radius of a circle from the user and computer area."
   ]
  },
  {
   "cell_type": "code",
   "execution_count": 3,
   "id": "abc2728e",
   "metadata": {},
   "outputs": [
    {
     "name": "stdout",
     "output_type": "stream",
     "text": [
      "Enter the radius of the circle = 1.1\n",
      "the solution is  =  3.8013271108436504\n",
      "the another way of solution is =  3.7994000000000008\n"
     ]
    }
   ],
   "source": [
    "### we want radius of the circle formula \n",
    "\n",
    "## Formula = pi * r * r \n",
    "\n",
    "from math import pi\n",
    "sol = float(input(\"Enter the radius of the circle = \"))\n",
    "print(\"the solution is  = \" , pi * sol * sol)\n",
    "#or\n",
    "n = 3.14    # value of pie in maths \n",
    "print(\"the another way of solution is = \" , n * sol * sol)"
   ]
  },
  {
   "cell_type": "markdown",
   "id": "bc802b2a",
   "metadata": {},
   "source": [
    "#### Finding the extension of the file from user input "
   ]
  },
  {
   "cell_type": "code",
   "execution_count": 5,
   "id": "8c3cbebd",
   "metadata": {},
   "outputs": [
    {
     "name": "stdout",
     "output_type": "stream",
     "text": [
      "the extension of this file is  =  java\n"
     ]
    }
   ],
   "source": [
    "text = 'poojitha.java'\n",
    "text_cleaned = text.split('.')\n",
    "print(\"the extension of this file is  = \" , text_cleaned[-1])"
   ]
  },
  {
   "cell_type": "code",
   "execution_count": 6,
   "id": "4bfb06a9",
   "metadata": {},
   "outputs": [
    {
     "name": "stdout",
     "output_type": "stream",
     "text": [
      "the extension of this file is  =  py\n"
     ]
    }
   ],
   "source": [
    "text = 'poojitha.py'\n",
    "text_cleaned = text.split('.')\n",
    "print(\"the extension of this file is  = \" , text_cleaned[-1])"
   ]
  },
  {
   "cell_type": "code",
   "execution_count": 7,
   "id": "b6e71017",
   "metadata": {},
   "outputs": [
    {
     "name": "stdout",
     "output_type": "stream",
     "text": [
      "the extension of the file is = Python\n"
     ]
    }
   ],
   "source": [
    "text = 'poojitha.py'\n",
    "text_cleaned = text.split('.')\n",
    "if text_cleaned[-1] == 'py':\n",
    "    print(\"the extension of the file is = Python\")\n"
   ]
  },
  {
   "cell_type": "code",
   "execution_count": null,
   "id": "a2aedc79",
   "metadata": {},
   "outputs": [],
   "source": [
    "ok na okay wts next github will create account and will upload into it oaky"
   ]
  }
 ],
 "metadata": {
  "kernelspec": {
   "display_name": "Python 3",
   "language": "python",
   "name": "python3"
  },
  "language_info": {
   "codemirror_mode": {
    "name": "ipython",
    "version": 3
   },
   "file_extension": ".py",
   "mimetype": "text/x-python",
   "name": "python",
   "nbconvert_exporter": "python",
   "pygments_lexer": "ipython3",
   "version": "3.8.8"
  }
 },
 "nbformat": 4,
 "nbformat_minor": 5
}
